{
 "cells": [
  {
   "cell_type": "markdown",
   "id": "66b29c53",
   "metadata": {},
   "source": [
    "## _Домашнее задание 2_\n",
    "На складе лежат разные фрукты в разном количестве.<br>\n",
    "\n",
    "Нужно написать функцию, которая на вход принимает<br> любое количество названий фруктов и их количество,<br>а возвращает общее количество фруктов на складе"
   ]
  },
  {
   "cell_type": "code",
   "execution_count": 81,
   "id": "6d9eaf0e",
   "metadata": {},
   "outputs": [],
   "source": [
    "def total_fruits(**fruits):\n",
    "    return sum(fruits.values())"
   ]
  },
  {
   "cell_type": "code",
   "execution_count": 82,
   "id": "82b33306",
   "metadata": {},
   "outputs": [
    {
     "data": {
      "text/plain": [
       "20"
      ]
     },
     "execution_count": 82,
     "metadata": {},
     "output_type": "execute_result"
    }
   ],
   "source": [
    "total_fruits(banana=5, mango=7, apple=8)"
   ]
  },
  {
   "cell_type": "code",
   "execution_count": 83,
   "id": "a7c940a6",
   "metadata": {},
   "outputs": [
    {
     "data": {
      "text/plain": [
       "35"
      ]
     },
     "execution_count": 83,
     "metadata": {},
     "output_type": "execute_result"
    }
   ],
   "source": [
    "total_fruits(banana=5, mango=7, apple=8, pear=15)"
   ]
  },
  {
   "cell_type": "markdown",
   "id": "f6ab477c",
   "metadata": {},
   "source": [
    "# _Домашнее задание 3_\n",
    "Дан список с затратами на рекламу. Но в данных есть ошибки,<br>\n",
    "некоторые затраты имеют отрицательную величину. Удалите<br>\n",
    "такие значения из списка и посчитайте суммарные затраты<br>\n",
    "[100, 125, -90, 345, 655, -1, 0, 200]<br>\n",
    "Используйте list comprehensions"
   ]
  },
  {
   "cell_type": "code",
   "execution_count": 84,
   "id": "d5ad5888",
   "metadata": {},
   "outputs": [
    {
     "data": {
      "text/plain": [
       "[100, 125, 0, 345, 655, 0, 0, 200]"
      ]
     },
     "execution_count": 84,
     "metadata": {},
     "output_type": "execute_result"
    }
   ],
   "source": [
    "orig_expenses = [100, 125, -90, 345, 655, -1, 0, 200]\n",
    "expenses = [i if i > 0 else 0 for i in orig_expenses]\n",
    "expenses"
   ]
  },
  {
   "cell_type": "code",
   "execution_count": 85,
   "id": "a1f9356c",
   "metadata": {},
   "outputs": [
    {
     "data": {
      "text/plain": [
       "1425"
      ]
     },
     "execution_count": 85,
     "metadata": {},
     "output_type": "execute_result"
    }
   ],
   "source": [
    "sum(expenses)"
   ]
  },
  {
   "cell_type": "markdown",
   "id": "91ce0852",
   "metadata": {},
   "source": [
    "# _Домашнее задание 3_\n",
    "Даны два списка.<br>\n",
    "Дата покупки<br>\n",
    "['2021-09-14', '2021-12-15', '2021-09-08', '2021-12-05', '2021-10-09', '2021-09-30', '2021-12-22', '2021-11-29', '2021-12-24', '2021-11-26', '2021-10-27', '2021-12-18', '2021-11-09', '2021-11-23', '2021-09-27', '2021-10-02', '2021-12-27', '2021-09-20', '2021-12-13', '2021-11-01', '2021-11-09', '2021-12-06', '2021-12-08', '2021-10-09', '2021-10-31', '2021-09-30', '2021-11-09', '2021-12-13', '2021-10-26', '2021-12-09']<br>\n",
    "Суммы покупок по датам<br>\n",
    "[1270, 8413, 9028, 3703, 5739, 4095, 295, 4944, 5723, 3701, 4471, 651, 7037, 4274, 6275, 4988, 6930, 2971, 6592, 2004, 2822, 519, 3406, 2732, 5015, 2008, 316, 6333, 5700, 2887]<br>\n",
    "## 4.1 Найдите, какая выручка у компании в ноябре\n",
    "Используйте list comprehensions<br>\n",
    "## 4.2 Найдите выручку компании в зависимости от месяца\n",
    "Для этого напишите функцию, которая на вход принимает список с датами и список с выручкой, а на выходе словарь, где ключи - это месяцы, а значения - это выручка.<br>\n",
    "Используйте аннотирование типов."
   ]
  },
  {
   "cell_type": "code",
   "execution_count": 71,
   "id": "d86e4c20",
   "metadata": {},
   "outputs": [],
   "source": [
    "Date_purchase=['2021-09-14', '2021-12-15', '2021-09-08', '2021-12-05', '2021-10-09', '2021-09-30', '2021-12-22', '2021-11-29',\n",
    "               '2021-12-24', '2021-11-26', '2021-10-27', '2021-12-18', '2021-11-09', '2021-11-23', '2021-09-27', '2021-10-02',\n",
    "               '2021-12-27', '2021-09-20', '2021-12-13', '2021-11-01', '2021-11-09', '2021-12-06', '2021-12-08', '2021-10-09',\n",
    "               '2021-10-31', '2021-09-30', '2021-11-09', '2021-12-13', '2021-10-26', '2021-12-09']"
   ]
  },
  {
   "cell_type": "code",
   "execution_count": 72,
   "id": "4997cc2c",
   "metadata": {},
   "outputs": [],
   "source": [
    "Purchase_amount=[1270, 8413, 9028, 3703, 5739, 4095, 295, 4944, 5723, 3701, 4471, 651, 7037, 4274, 6275, 4988, 6930, 2971,\n",
    "                 6592, 2004, 2822, 519, 3406, 2732, 5015, 2008, 316, 6333, 5700, 2887]"
   ]
  },
  {
   "cell_type": "markdown",
   "id": "a17f3963",
   "metadata": {},
   "source": [
    "# 4.1 Найдите, какая выручка у компании в ноябре\n",
    "Используйте list comprehensions"
   ]
  },
  {
   "cell_type": "code",
   "execution_count": 73,
   "id": "b0473528",
   "metadata": {},
   "outputs": [
    {
     "name": "stdout",
     "output_type": "stream",
     "text": [
      "25098\n"
     ]
    }
   ],
   "source": [
    "import datetime as dt\n",
    "result=sum([Purchase_amount[i] if dt.date.fromisoformat(Date_purchase[i]) >= dt.date.fromisoformat('2021-11-01')\n",
    "            and dt.date.fromisoformat(Date_purchase[i]) <= dt.date.fromisoformat('2021-11-30')  else 0 for i in range(len(Date_purchase))])\n",
    "print (result)"
   ]
  },
  {
   "cell_type": "markdown",
   "id": "4368b771",
   "metadata": {},
   "source": [
    "## 4.2 Найдите выручку компании в зависимости от месяца\n",
    "Для этого напишите функцию, которая на вход принимает список с датами и список с выручкой, а на выходе словарь, где ключи - это месяцы, а значения - это выручка.<br>\n",
    "Используйте аннотирование типов."
   ]
  },
  {
   "cell_type": "code",
   "execution_count": 103,
   "id": "9d3bff2e",
   "metadata": {},
   "outputs": [],
   "source": [
    "def company_revenue(lst_date: list, lst_sum: list) ->dict:\n",
    "    dic_group={str(dt.date.fromisoformat(lst_date[i]).month)+\"-\"+str(dt.date.fromisoformat(lst_date[i]).year): 0 for i in range(len(lst_date))}\n",
    "    for k,v in dic_group.items():\n",
    "        sum_tmp=0\n",
    "        for i in range(len(lst_date)):\n",
    "            str_temp=str(dt.date.fromisoformat(lst_date[i]).month)+\"-\"+str(dt.date.fromisoformat(lst_date[i]).year)\n",
    "            if str_temp==k: sum_tmp+=lst_sum[i]\n",
    "        dic_group[k] = sum_tmp\n",
    "    return dic_group\n"
   ]
  },
  {
   "cell_type": "code",
   "execution_count": 104,
   "id": "bb7f0ae7",
   "metadata": {},
   "outputs": [
    {
     "data": {
      "text/plain": [
       "{'9-2021': 25647, '12-2021': 45452, '10-2021': 28645, '11-2021': 25098}"
      ]
     },
     "execution_count": 104,
     "metadata": {},
     "output_type": "execute_result"
    }
   ],
   "source": [
    "company_revenue(Date_purchase,Purchase_amount)"
   ]
  }
 ],
 "metadata": {
  "kernelspec": {
   "display_name": "Python 3 (ipykernel)",
   "language": "python",
   "name": "python3"
  },
  "language_info": {
   "codemirror_mode": {
    "name": "ipython",
    "version": 3
   },
   "file_extension": ".py",
   "mimetype": "text/x-python",
   "name": "python",
   "nbconvert_exporter": "python",
   "pygments_lexer": "ipython3",
   "version": "3.11.4"
  }
 },
 "nbformat": 4,
 "nbformat_minor": 5
}
